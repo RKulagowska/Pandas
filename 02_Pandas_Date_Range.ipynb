{
  "metadata": {
    "language_info": {
      "codemirror_mode": {
        "name": "python",
        "version": 3
      },
      "file_extension": ".py",
      "mimetype": "text/x-python",
      "name": "python",
      "nbconvert_exporter": "python",
      "pygments_lexer": "ipython3",
      "version": "3.8"
    },
    "kernelspec": {
      "name": "python",
      "display_name": "Python (Pyodide)",
      "language": "python"
    },
    "widgets": {
      "application/vnd.jupyter.widget-state+json": {
        "version_major": 2,
        "version_minor": 0,
        "state": {}
      }
    }
  },
  "nbformat_minor": 4,
  "nbformat": 4,
  "cells": [
    {
      "cell_type": "code",
      "source": "import pandas as pd\nimport numpy as np",
      "metadata": {
        "trusted": true
      },
      "execution_count": 7,
      "outputs": []
    },
    {
      "cell_type": "code",
      "source": "d = pd.date_range('20200101', periods = 10, freq='M')\nprint(d)",
      "metadata": {
        "trusted": true
      },
      "execution_count": 18,
      "outputs": [
        {
          "name": "stdout",
          "text": "DatetimeIndex(['2020-01-31', '2020-02-29', '2020-03-31', '2020-04-30',\n               '2020-05-31', '2020-06-30', '2020-07-31', '2020-08-31',\n               '2020-09-30', '2020-10-31'],\n              dtype='datetime64[ns]', freq='M')\n",
          "output_type": "stream"
        }
      ]
    },
    {
      "cell_type": "code",
      "source": "d = pd.date_range('20200101', periods = 10, freq='D')\nprint(d)",
      "metadata": {
        "trusted": true
      },
      "execution_count": 19,
      "outputs": [
        {
          "name": "stdout",
          "text": "DatetimeIndex(['2020-01-01', '2020-01-02', '2020-01-03', '2020-01-04',\n               '2020-01-05', '2020-01-06', '2020-01-07', '2020-01-08',\n               '2020-01-09', '2020-01-10'],\n              dtype='datetime64[ns]', freq='D')\n",
          "output_type": "stream"
        }
      ]
    },
    {
      "cell_type": "code",
      "source": "d = pd.date_range('20200101', periods = 10, freq='Y')\nprint(d)",
      "metadata": {
        "trusted": true
      },
      "execution_count": 17,
      "outputs": [
        {
          "name": "stdout",
          "text": "DatetimeIndex(['2020-12-31', '2021-12-31', '2022-12-31', '2023-12-31',\n               '2024-12-31', '2025-12-31', '2026-12-31', '2027-12-31',\n               '2028-12-31', '2029-12-31'],\n              dtype='datetime64[ns]', freq='A-DEC')\n",
          "output_type": "stream"
        }
      ]
    },
    {
      "cell_type": "code",
      "source": "np.random.randn(10,4)",
      "metadata": {
        "trusted": true
      },
      "execution_count": 22,
      "outputs": [
        {
          "execution_count": 22,
          "output_type": "execute_result",
          "data": {
            "text/plain": "array([[ 5.35732439e-02, -1.31283216e+00, -4.49771648e-01,\n        -1.63851531e+00],\n       [ 3.12604579e-02,  6.32112779e-01, -2.24562350e-01,\n        -7.52056973e-01],\n       [-6.50994216e-01,  1.55426699e-03, -9.44015197e-02,\n        -9.71583246e-01],\n       [-1.91205504e+00, -1.12198113e-01,  7.47825085e-01,\n         1.06962086e+00],\n       [ 1.12106757e+00, -4.16616256e-02,  3.89375869e-03,\n        -1.01082045e+00],\n       [ 8.52560485e-01,  1.25846286e+00, -1.57284858e+00,\n         9.25130194e-01],\n       [ 1.95676335e-01, -2.49595875e-02, -4.45650580e-01,\n         1.28847959e-01],\n       [ 2.39155297e-01, -2.04552152e-01, -1.04779789e+00,\n        -7.79717308e-01],\n       [ 2.48211843e+00, -8.93441690e-01, -6.74092198e-01,\n         6.92057440e-01],\n       [ 7.29141215e-01, -6.19679518e-01, -1.64468855e+00,\n         4.54326674e-01]])"
          },
          "metadata": {}
        }
      ]
    },
    {
      "cell_type": "code",
      "source": "r = np.random.randn(10,4)\ndf= pd.DataFrame(r)\nprint(df)",
      "metadata": {
        "trusted": true
      },
      "execution_count": 26,
      "outputs": [
        {
          "name": "stdout",
          "text": "          0         1         2         3\n0  0.293942  0.826234  1.669884 -1.087474\n1 -1.194997  0.147299 -0.142868  0.294420\n2  0.912797  0.896830 -0.637483  0.137660\n3  1.087694 -1.358525 -0.736116  0.073559\n4  0.064333  0.069548 -2.296657  0.440560\n5  0.420658  1.172283  0.660063 -0.733475\n6 -1.778987  0.385933  0.376956  0.601398\n7 -1.096511 -1.550003  0.302457 -1.400010\n8 -0.056159 -0.947050 -0.076102  1.139897\n9 -0.475244  0.377202 -0.632286  0.385505\n",
          "output_type": "stream"
        }
      ]
    },
    {
      "cell_type": "code",
      "source": "r = np.random.randn(10,4)\ndf= pd.DataFrame(r, index= d, columns=['a','b','c','d'])\nprint(df)",
      "metadata": {
        "trusted": true
      },
      "execution_count": 27,
      "outputs": [
        {
          "name": "stdout",
          "text": "                   a         b         c         d\n2020-01-01  0.115459 -0.709728 -0.483373 -0.392066\n2020-01-02 -0.732908  1.125503  0.061938  0.853384\n2020-01-03 -0.272030  0.932089 -0.923230  2.164732\n2020-01-04  1.100064 -0.166326 -0.973350  0.629426\n2020-01-05 -0.254594 -0.330784 -1.244642  0.660003\n2020-01-06 -1.811420  0.490794  0.217670  0.882109\n2020-01-07 -0.235548  0.830471  1.417217  1.618417\n2020-01-08 -0.586130  0.051320  0.965318 -0.026064\n2020-01-09 -0.175606 -0.807736  0.531737 -1.283826\n2020-01-10 -0.774817  1.070063  0.043755 -2.236479\n",
          "output_type": "stream"
        }
      ]
    },
    {
      "cell_type": "code",
      "source": "r = np.random.randn(10,4)\ndf= pd.DataFrame(r, index= d, columns=list('ABCD'))\nprint(df)",
      "metadata": {
        "trusted": true
      },
      "execution_count": 29,
      "outputs": [
        {
          "name": "stdout",
          "text": "                   A         B         C         D\n2020-01-01  1.193238  0.339605  1.583925 -0.825258\n2020-01-02 -0.578167  1.928968 -1.391858  0.348825\n2020-01-03 -0.434637 -0.317058 -1.443311 -0.975488\n2020-01-04 -0.125141  1.405850 -0.489457  0.097863\n2020-01-05  0.827715 -1.185669  1.128762 -0.086439\n2020-01-06 -0.249332  0.272957  0.581078  0.398790\n2020-01-07 -1.220436  1.123208  0.262784 -0.523445\n2020-01-08  2.345462 -0.418174 -0.846214  1.058958\n2020-01-09 -0.860241 -2.085935 -0.023778 -0.989613\n2020-01-10  0.584993 -0.387940 -1.042119 -1.179221\n",
          "output_type": "stream"
        }
      ]
    },
    {
      "cell_type": "code",
      "source": "df.shape",
      "metadata": {
        "trusted": true
      },
      "execution_count": 31,
      "outputs": [
        {
          "execution_count": 31,
          "output_type": "execute_result",
          "data": {
            "text/plain": "(10, 4)"
          },
          "metadata": {}
        }
      ]
    },
    {
      "cell_type": "code",
      "source": "df.columns",
      "metadata": {
        "trusted": true
      },
      "execution_count": 32,
      "outputs": [
        {
          "execution_count": 32,
          "output_type": "execute_result",
          "data": {
            "text/plain": "Index(['A', 'B', 'C', 'D'], dtype='object')"
          },
          "metadata": {}
        }
      ]
    },
    {
      "cell_type": "code",
      "source": "df.info()",
      "metadata": {
        "trusted": true
      },
      "execution_count": 34,
      "outputs": [
        {
          "name": "stdout",
          "text": "<class 'pandas.core.frame.DataFrame'>\nDatetimeIndex: 10 entries, 2020-01-01 to 2020-01-10\nFreq: D\nData columns (total 4 columns):\n #   Column  Non-Null Count  Dtype  \n---  ------  --------------  -----  \n 0   A       10 non-null     float64\n 1   B       10 non-null     float64\n 2   C       10 non-null     float64\n 3   D       10 non-null     float64\ndtypes: float64(4)\nmemory usage: 400.0 bytes\n",
          "output_type": "stream"
        }
      ]
    },
    {
      "cell_type": "code",
      "source": "df.head(5)",
      "metadata": {
        "trusted": true
      },
      "execution_count": 35,
      "outputs": [
        {
          "execution_count": 35,
          "output_type": "execute_result",
          "data": {
            "text/plain": "                   A         B         C         D\n2020-01-01  1.193238  0.339605  1.583925 -0.825258\n2020-01-02 -0.578167  1.928968 -1.391858  0.348825\n2020-01-03 -0.434637 -0.317058 -1.443311 -0.975488\n2020-01-04 -0.125141  1.405850 -0.489457  0.097863\n2020-01-05  0.827715 -1.185669  1.128762 -0.086439",
            "text/html": "<div>\n<style scoped>\n    .dataframe tbody tr th:only-of-type {\n        vertical-align: middle;\n    }\n\n    .dataframe tbody tr th {\n        vertical-align: top;\n    }\n\n    .dataframe thead th {\n        text-align: right;\n    }\n</style>\n<table border=\"1\" class=\"dataframe\">\n  <thead>\n    <tr style=\"text-align: right;\">\n      <th></th>\n      <th>A</th>\n      <th>B</th>\n      <th>C</th>\n      <th>D</th>\n    </tr>\n  </thead>\n  <tbody>\n    <tr>\n      <th>2020-01-01</th>\n      <td>1.193238</td>\n      <td>0.339605</td>\n      <td>1.583925</td>\n      <td>-0.825258</td>\n    </tr>\n    <tr>\n      <th>2020-01-02</th>\n      <td>-0.578167</td>\n      <td>1.928968</td>\n      <td>-1.391858</td>\n      <td>0.348825</td>\n    </tr>\n    <tr>\n      <th>2020-01-03</th>\n      <td>-0.434637</td>\n      <td>-0.317058</td>\n      <td>-1.443311</td>\n      <td>-0.975488</td>\n    </tr>\n    <tr>\n      <th>2020-01-04</th>\n      <td>-0.125141</td>\n      <td>1.405850</td>\n      <td>-0.489457</td>\n      <td>0.097863</td>\n    </tr>\n    <tr>\n      <th>2020-01-05</th>\n      <td>0.827715</td>\n      <td>-1.185669</td>\n      <td>1.128762</td>\n      <td>-0.086439</td>\n    </tr>\n  </tbody>\n</table>\n</div>"
          },
          "metadata": {}
        }
      ]
    },
    {
      "cell_type": "code",
      "source": "df.tail(3)",
      "metadata": {
        "trusted": true
      },
      "execution_count": 36,
      "outputs": [
        {
          "execution_count": 36,
          "output_type": "execute_result",
          "data": {
            "text/plain": "                   A         B         C         D\n2020-01-08  2.345462 -0.418174 -0.846214  1.058958\n2020-01-09 -0.860241 -2.085935 -0.023778 -0.989613\n2020-01-10  0.584993 -0.387940 -1.042119 -1.179221",
            "text/html": "<div>\n<style scoped>\n    .dataframe tbody tr th:only-of-type {\n        vertical-align: middle;\n    }\n\n    .dataframe tbody tr th {\n        vertical-align: top;\n    }\n\n    .dataframe thead th {\n        text-align: right;\n    }\n</style>\n<table border=\"1\" class=\"dataframe\">\n  <thead>\n    <tr style=\"text-align: right;\">\n      <th></th>\n      <th>A</th>\n      <th>B</th>\n      <th>C</th>\n      <th>D</th>\n    </tr>\n  </thead>\n  <tbody>\n    <tr>\n      <th>2020-01-08</th>\n      <td>2.345462</td>\n      <td>-0.418174</td>\n      <td>-0.846214</td>\n      <td>1.058958</td>\n    </tr>\n    <tr>\n      <th>2020-01-09</th>\n      <td>-0.860241</td>\n      <td>-2.085935</td>\n      <td>-0.023778</td>\n      <td>-0.989613</td>\n    </tr>\n    <tr>\n      <th>2020-01-10</th>\n      <td>0.584993</td>\n      <td>-0.387940</td>\n      <td>-1.042119</td>\n      <td>-1.179221</td>\n    </tr>\n  </tbody>\n</table>\n</div>"
          },
          "metadata": {}
        }
      ]
    },
    {
      "cell_type": "code",
      "source": "df.isnull()",
      "metadata": {
        "trusted": true
      },
      "execution_count": 37,
      "outputs": [
        {
          "execution_count": 37,
          "output_type": "execute_result",
          "data": {
            "text/plain": "                A      B      C      D\n2020-01-01  False  False  False  False\n2020-01-02  False  False  False  False\n2020-01-03  False  False  False  False\n2020-01-04  False  False  False  False\n2020-01-05  False  False  False  False\n2020-01-06  False  False  False  False\n2020-01-07  False  False  False  False\n2020-01-08  False  False  False  False\n2020-01-09  False  False  False  False\n2020-01-10  False  False  False  False",
            "text/html": "<div>\n<style scoped>\n    .dataframe tbody tr th:only-of-type {\n        vertical-align: middle;\n    }\n\n    .dataframe tbody tr th {\n        vertical-align: top;\n    }\n\n    .dataframe thead th {\n        text-align: right;\n    }\n</style>\n<table border=\"1\" class=\"dataframe\">\n  <thead>\n    <tr style=\"text-align: right;\">\n      <th></th>\n      <th>A</th>\n      <th>B</th>\n      <th>C</th>\n      <th>D</th>\n    </tr>\n  </thead>\n  <tbody>\n    <tr>\n      <th>2020-01-01</th>\n      <td>False</td>\n      <td>False</td>\n      <td>False</td>\n      <td>False</td>\n    </tr>\n    <tr>\n      <th>2020-01-02</th>\n      <td>False</td>\n      <td>False</td>\n      <td>False</td>\n      <td>False</td>\n    </tr>\n    <tr>\n      <th>2020-01-03</th>\n      <td>False</td>\n      <td>False</td>\n      <td>False</td>\n      <td>False</td>\n    </tr>\n    <tr>\n      <th>2020-01-04</th>\n      <td>False</td>\n      <td>False</td>\n      <td>False</td>\n      <td>False</td>\n    </tr>\n    <tr>\n      <th>2020-01-05</th>\n      <td>False</td>\n      <td>False</td>\n      <td>False</td>\n      <td>False</td>\n    </tr>\n    <tr>\n      <th>2020-01-06</th>\n      <td>False</td>\n      <td>False</td>\n      <td>False</td>\n      <td>False</td>\n    </tr>\n    <tr>\n      <th>2020-01-07</th>\n      <td>False</td>\n      <td>False</td>\n      <td>False</td>\n      <td>False</td>\n    </tr>\n    <tr>\n      <th>2020-01-08</th>\n      <td>False</td>\n      <td>False</td>\n      <td>False</td>\n      <td>False</td>\n    </tr>\n    <tr>\n      <th>2020-01-09</th>\n      <td>False</td>\n      <td>False</td>\n      <td>False</td>\n      <td>False</td>\n    </tr>\n    <tr>\n      <th>2020-01-10</th>\n      <td>False</td>\n      <td>False</td>\n      <td>False</td>\n      <td>False</td>\n    </tr>\n  </tbody>\n</table>\n</div>"
          },
          "metadata": {}
        }
      ]
    },
    {
      "cell_type": "code",
      "source": "df.isnull().sum()",
      "metadata": {
        "trusted": true
      },
      "execution_count": 41,
      "outputs": [
        {
          "execution_count": 41,
          "output_type": "execute_result",
          "data": {
            "text/plain": "A    0\nB    0\nC    0\nD    0\ndtype: int64"
          },
          "metadata": {}
        }
      ]
    },
    {
      "cell_type": "code",
      "source": "df.dropna()  # return remaining values ",
      "metadata": {
        "trusted": true
      },
      "execution_count": 43,
      "outputs": [
        {
          "execution_count": 43,
          "output_type": "execute_result",
          "data": {
            "text/plain": "                   A         B         C         D\n2020-01-01  1.193238  0.339605  1.583925 -0.825258\n2020-01-02 -0.578167  1.928968 -1.391858  0.348825\n2020-01-03 -0.434637 -0.317058 -1.443311 -0.975488\n2020-01-04 -0.125141  1.405850 -0.489457  0.097863\n2020-01-05  0.827715 -1.185669  1.128762 -0.086439\n2020-01-06 -0.249332  0.272957  0.581078  0.398790\n2020-01-07 -1.220436  1.123208  0.262784 -0.523445\n2020-01-08  2.345462 -0.418174 -0.846214  1.058958\n2020-01-09 -0.860241 -2.085935 -0.023778 -0.989613\n2020-01-10  0.584993 -0.387940 -1.042119 -1.179221",
            "text/html": "<div>\n<style scoped>\n    .dataframe tbody tr th:only-of-type {\n        vertical-align: middle;\n    }\n\n    .dataframe tbody tr th {\n        vertical-align: top;\n    }\n\n    .dataframe thead th {\n        text-align: right;\n    }\n</style>\n<table border=\"1\" class=\"dataframe\">\n  <thead>\n    <tr style=\"text-align: right;\">\n      <th></th>\n      <th>A</th>\n      <th>B</th>\n      <th>C</th>\n      <th>D</th>\n    </tr>\n  </thead>\n  <tbody>\n    <tr>\n      <th>2020-01-01</th>\n      <td>1.193238</td>\n      <td>0.339605</td>\n      <td>1.583925</td>\n      <td>-0.825258</td>\n    </tr>\n    <tr>\n      <th>2020-01-02</th>\n      <td>-0.578167</td>\n      <td>1.928968</td>\n      <td>-1.391858</td>\n      <td>0.348825</td>\n    </tr>\n    <tr>\n      <th>2020-01-03</th>\n      <td>-0.434637</td>\n      <td>-0.317058</td>\n      <td>-1.443311</td>\n      <td>-0.975488</td>\n    </tr>\n    <tr>\n      <th>2020-01-04</th>\n      <td>-0.125141</td>\n      <td>1.405850</td>\n      <td>-0.489457</td>\n      <td>0.097863</td>\n    </tr>\n    <tr>\n      <th>2020-01-05</th>\n      <td>0.827715</td>\n      <td>-1.185669</td>\n      <td>1.128762</td>\n      <td>-0.086439</td>\n    </tr>\n    <tr>\n      <th>2020-01-06</th>\n      <td>-0.249332</td>\n      <td>0.272957</td>\n      <td>0.581078</td>\n      <td>0.398790</td>\n    </tr>\n    <tr>\n      <th>2020-01-07</th>\n      <td>-1.220436</td>\n      <td>1.123208</td>\n      <td>0.262784</td>\n      <td>-0.523445</td>\n    </tr>\n    <tr>\n      <th>2020-01-08</th>\n      <td>2.345462</td>\n      <td>-0.418174</td>\n      <td>-0.846214</td>\n      <td>1.058958</td>\n    </tr>\n    <tr>\n      <th>2020-01-09</th>\n      <td>-0.860241</td>\n      <td>-2.085935</td>\n      <td>-0.023778</td>\n      <td>-0.989613</td>\n    </tr>\n    <tr>\n      <th>2020-01-10</th>\n      <td>0.584993</td>\n      <td>-0.387940</td>\n      <td>-1.042119</td>\n      <td>-1.179221</td>\n    </tr>\n  </tbody>\n</table>\n</div>"
          },
          "metadata": {}
        }
      ]
    },
    {
      "cell_type": "code",
      "source": "df.dropna(axis=1) # dropp column , axis = 0 means row",
      "metadata": {
        "trusted": true
      },
      "execution_count": 44,
      "outputs": [
        {
          "execution_count": 44,
          "output_type": "execute_result",
          "data": {
            "text/plain": "                   A         B         C         D\n2020-01-01  1.193238  0.339605  1.583925 -0.825258\n2020-01-02 -0.578167  1.928968 -1.391858  0.348825\n2020-01-03 -0.434637 -0.317058 -1.443311 -0.975488\n2020-01-04 -0.125141  1.405850 -0.489457  0.097863\n2020-01-05  0.827715 -1.185669  1.128762 -0.086439\n2020-01-06 -0.249332  0.272957  0.581078  0.398790\n2020-01-07 -1.220436  1.123208  0.262784 -0.523445\n2020-01-08  2.345462 -0.418174 -0.846214  1.058958\n2020-01-09 -0.860241 -2.085935 -0.023778 -0.989613\n2020-01-10  0.584993 -0.387940 -1.042119 -1.179221",
            "text/html": "<div>\n<style scoped>\n    .dataframe tbody tr th:only-of-type {\n        vertical-align: middle;\n    }\n\n    .dataframe tbody tr th {\n        vertical-align: top;\n    }\n\n    .dataframe thead th {\n        text-align: right;\n    }\n</style>\n<table border=\"1\" class=\"dataframe\">\n  <thead>\n    <tr style=\"text-align: right;\">\n      <th></th>\n      <th>A</th>\n      <th>B</th>\n      <th>C</th>\n      <th>D</th>\n    </tr>\n  </thead>\n  <tbody>\n    <tr>\n      <th>2020-01-01</th>\n      <td>1.193238</td>\n      <td>0.339605</td>\n      <td>1.583925</td>\n      <td>-0.825258</td>\n    </tr>\n    <tr>\n      <th>2020-01-02</th>\n      <td>-0.578167</td>\n      <td>1.928968</td>\n      <td>-1.391858</td>\n      <td>0.348825</td>\n    </tr>\n    <tr>\n      <th>2020-01-03</th>\n      <td>-0.434637</td>\n      <td>-0.317058</td>\n      <td>-1.443311</td>\n      <td>-0.975488</td>\n    </tr>\n    <tr>\n      <th>2020-01-04</th>\n      <td>-0.125141</td>\n      <td>1.405850</td>\n      <td>-0.489457</td>\n      <td>0.097863</td>\n    </tr>\n    <tr>\n      <th>2020-01-05</th>\n      <td>0.827715</td>\n      <td>-1.185669</td>\n      <td>1.128762</td>\n      <td>-0.086439</td>\n    </tr>\n    <tr>\n      <th>2020-01-06</th>\n      <td>-0.249332</td>\n      <td>0.272957</td>\n      <td>0.581078</td>\n      <td>0.398790</td>\n    </tr>\n    <tr>\n      <th>2020-01-07</th>\n      <td>-1.220436</td>\n      <td>1.123208</td>\n      <td>0.262784</td>\n      <td>-0.523445</td>\n    </tr>\n    <tr>\n      <th>2020-01-08</th>\n      <td>2.345462</td>\n      <td>-0.418174</td>\n      <td>-0.846214</td>\n      <td>1.058958</td>\n    </tr>\n    <tr>\n      <th>2020-01-09</th>\n      <td>-0.860241</td>\n      <td>-2.085935</td>\n      <td>-0.023778</td>\n      <td>-0.989613</td>\n    </tr>\n    <tr>\n      <th>2020-01-10</th>\n      <td>0.584993</td>\n      <td>-0.387940</td>\n      <td>-1.042119</td>\n      <td>-1.179221</td>\n    </tr>\n  </tbody>\n</table>\n</div>"
          },
          "metadata": {}
        }
      ]
    },
    {
      "cell_type": "code",
      "source": "df.value_counts()",
      "metadata": {
        "trusted": true
      },
      "execution_count": 47,
      "outputs": [
        {
          "execution_count": 47,
          "output_type": "execute_result",
          "data": {
            "text/plain": "A          B          C          D        \n-1.220436   1.123208   0.262784  -0.523445    1\n-0.860241  -2.085935  -0.023778  -0.989613    1\n-0.578167   1.928968  -1.391858   0.348825    1\n-0.434637  -0.317058  -1.443311  -0.975488    1\n-0.249332   0.272957   0.581078   0.398790    1\n-0.125141   1.405850  -0.489457   0.097863    1\n 0.584993  -0.387940  -1.042119  -1.179221    1\n 0.827715  -1.185669   1.128762  -0.086439    1\n 1.193238   0.339605   1.583925  -0.825258    1\n 2.345462  -0.418174  -0.846214   1.058958    1\ndtype: int64"
          },
          "metadata": {}
        }
      ]
    },
    {
      "cell_type": "code",
      "source": "df['A'].value_counts()",
      "metadata": {
        "trusted": true
      },
      "execution_count": 48,
      "outputs": [
        {
          "execution_count": 48,
          "output_type": "execute_result",
          "data": {
            "text/plain": " 1.193238    1\n-0.578167    1\n-0.434637    1\n-0.125141    1\n 0.827715    1\n-0.249332    1\n-1.220436    1\n 2.345462    1\n-0.860241    1\n 0.584993    1\nName: A, dtype: int64"
          },
          "metadata": {}
        }
      ]
    },
    {
      "cell_type": "code",
      "source": "df.corr()",
      "metadata": {
        "trusted": true
      },
      "execution_count": 49,
      "outputs": [
        {
          "execution_count": 49,
          "output_type": "execute_result",
          "data": {
            "text/plain": "          A         B         C         D\nA  1.000000 -0.226400  0.148829  0.377125\nB -0.226400  1.000000 -0.203378  0.334707\nC  0.148829 -0.203378  1.000000 -0.075097\nD  0.377125  0.334707 -0.075097  1.000000",
            "text/html": "<div>\n<style scoped>\n    .dataframe tbody tr th:only-of-type {\n        vertical-align: middle;\n    }\n\n    .dataframe tbody tr th {\n        vertical-align: top;\n    }\n\n    .dataframe thead th {\n        text-align: right;\n    }\n</style>\n<table border=\"1\" class=\"dataframe\">\n  <thead>\n    <tr style=\"text-align: right;\">\n      <th></th>\n      <th>A</th>\n      <th>B</th>\n      <th>C</th>\n      <th>D</th>\n    </tr>\n  </thead>\n  <tbody>\n    <tr>\n      <th>A</th>\n      <td>1.000000</td>\n      <td>-0.226400</td>\n      <td>0.148829</td>\n      <td>0.377125</td>\n    </tr>\n    <tr>\n      <th>B</th>\n      <td>-0.226400</td>\n      <td>1.000000</td>\n      <td>-0.203378</td>\n      <td>0.334707</td>\n    </tr>\n    <tr>\n      <th>C</th>\n      <td>0.148829</td>\n      <td>-0.203378</td>\n      <td>1.000000</td>\n      <td>-0.075097</td>\n    </tr>\n    <tr>\n      <th>D</th>\n      <td>0.377125</td>\n      <td>0.334707</td>\n      <td>-0.075097</td>\n      <td>1.000000</td>\n    </tr>\n  </tbody>\n</table>\n</div>"
          },
          "metadata": {}
        }
      ]
    },
    {
      "cell_type": "code",
      "source": "",
      "metadata": {},
      "execution_count": null,
      "outputs": []
    }
  ]
}